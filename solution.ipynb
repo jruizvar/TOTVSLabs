{
 "cells": [
  {
   "cell_type": "markdown",
   "metadata": {
    "deletable": true,
    "editable": true
   },
   "source": [
    "# 1. Parse and extract the data\n",
    "\n",
    "It is possible to use the Python library [Pandas](http://pandas.pydata.org) to read the dataset, which is given in [JSON](http://json.org) format:"
   ]
  },
  {
   "cell_type": "code",
   "execution_count": 1,
   "metadata": {
    "collapsed": false,
    "deletable": true,
    "editable": true
   },
   "outputs": [
    {
     "data": {
      "text/plain": [
       "(1635, 7)"
      ]
     },
     "execution_count": 1,
     "metadata": {},
     "output_type": "execute_result"
    }
   ],
   "source": [
    "import pandas\n",
    "\n",
    "data = pandas.read_json('sample.txt')\n",
    "\n",
    "data.shape"
   ]
  },
  {
   "cell_type": "code",
   "execution_count": 2,
   "metadata": {
    "collapsed": false,
    "deletable": true,
    "editable": true
   },
   "outputs": [
    {
     "data": {
      "text/plain": [
       "['complemento', 'dets', 'emit', 'ide', 'infAdic', 'total', 'versaoDocumento']"
      ]
     },
     "execution_count": 2,
     "metadata": {},
     "output_type": "execute_result"
    }
   ],
   "source": [
    "data.columns.tolist()"
   ]
  },
  {
   "cell_type": "markdown",
   "metadata": {
    "deletable": true,
    "editable": true
   },
   "source": [
    "The obtained dataframe contains **1635 rows** corresponding to the total number of transactions, and **7 columns** identified by certain keys. A visual inspection of [sample.txt](https://raw.githubusercontent.com/jruizvar/TOTVSLabs/python-pandas/sample.txt) reveals the information behind every key, summarized in the following table:\n",
    "\n",
    "| Key         | Description                |\n",
    "|-------------|----------------------------|\n",
    "|'complemento'| Total value per transaction|\n",
    "| 'dets'      | Product name and value     |\n",
    "| 'ide'       | Transaction time           |\n",
    "| other keys  | Not considered             |"
   ]
  },
  {
   "cell_type": "markdown",
   "metadata": {
    "deletable": true,
    "editable": true
   },
   "source": [
    "# 2. Consumption pattern\n",
    "\n",
    "The revenue of the transactions can be arranged in a 2-dimensional matrix with the number of rows equal to the number of transactions and the number of columns equal to the number of products; a given cell **( i , j )** contains the income due to product **j** in the transaction **i**. The following code retrieves name-value pairs for each product in each transaction by implementing the method [map](http://pandas.pydata.org/pandas-docs/stable/generated/pandas.Series.map.html) and the syntax of [dict comprehensions](https://www.python.org/dev/peps/pep-0274/)."
   ]
  },
  {
   "cell_type": "code",
   "execution_count": 3,
   "metadata": {
    "collapsed": false,
    "deletable": true,
    "editable": true
   },
   "outputs": [
    {
     "data": {
      "text/html": [
       "<div>\n",
       "<table border=\"1\" class=\"dataframe\">\n",
       "  <thead>\n",
       "    <tr style=\"text-align: right;\">\n",
       "      <th></th>\n",
       "      <th>AGUA</th>\n",
       "      <th>BACARDI</th>\n",
       "      <th>BUFFET</th>\n",
       "      <th>BULE CHA</th>\n",
       "      <th>CAFE EXPRESSO</th>\n",
       "      <th>CAIPIRINHA</th>\n",
       "      <th>CAIPIROSKA</th>\n",
       "      <th>CERVEJA</th>\n",
       "      <th>CERVEJA LATA</th>\n",
       "      <th>CHA</th>\n",
       "      <th>...</th>\n",
       "      <th>SAKE</th>\n",
       "      <th>SASHIMI</th>\n",
       "      <th>SOBREMESA</th>\n",
       "      <th>SUCO</th>\n",
       "      <th>SUSHI ESPECIAL</th>\n",
       "      <th>TEMAKI</th>\n",
       "      <th>URAMAKI</th>\n",
       "      <th>VINHO</th>\n",
       "      <th>WHISKY</th>\n",
       "      <th>YAKISSOBA</th>\n",
       "    </tr>\n",
       "  </thead>\n",
       "  <tbody>\n",
       "    <tr>\n",
       "      <th>count</th>\n",
       "      <td>405.000000</td>\n",
       "      <td>1.0</td>\n",
       "      <td>1635.000000</td>\n",
       "      <td>8.0</td>\n",
       "      <td>20.000000</td>\n",
       "      <td>7.000000</td>\n",
       "      <td>9.000000</td>\n",
       "      <td>91.000000</td>\n",
       "      <td>57.000000</td>\n",
       "      <td>83.000000</td>\n",
       "      <td>...</td>\n",
       "      <td>36.000000</td>\n",
       "      <td>3.000000e+00</td>\n",
       "      <td>16.000000</td>\n",
       "      <td>173.000000</td>\n",
       "      <td>43.000000</td>\n",
       "      <td>14.000000</td>\n",
       "      <td>1.0</td>\n",
       "      <td>1.0</td>\n",
       "      <td>16.00000</td>\n",
       "      <td>3.000000</td>\n",
       "    </tr>\n",
       "    <tr>\n",
       "      <th>mean</th>\n",
       "      <td>6.154815</td>\n",
       "      <td>7.0</td>\n",
       "      <td>46.191755</td>\n",
       "      <td>8.2</td>\n",
       "      <td>4.200000</td>\n",
       "      <td>15.428571</td>\n",
       "      <td>17.000000</td>\n",
       "      <td>7.590659</td>\n",
       "      <td>12.584211</td>\n",
       "      <td>1.265060</td>\n",
       "      <td>...</td>\n",
       "      <td>19.997222</td>\n",
       "      <td>2.160000e+01</td>\n",
       "      <td>11.925000</td>\n",
       "      <td>7.711850</td>\n",
       "      <td>18.734884</td>\n",
       "      <td>14.742857</td>\n",
       "      <td>15.0</td>\n",
       "      <td>19.0</td>\n",
       "      <td>19.40000</td>\n",
       "      <td>44.800000</td>\n",
       "    </tr>\n",
       "    <tr>\n",
       "      <th>std</th>\n",
       "      <td>4.529104</td>\n",
       "      <td>NaN</td>\n",
       "      <td>29.323780</td>\n",
       "      <td>0.0</td>\n",
       "      <td>1.831019</td>\n",
       "      <td>5.855400</td>\n",
       "      <td>4.974937</td>\n",
       "      <td>6.024104</td>\n",
       "      <td>9.490381</td>\n",
       "      <td>0.645516</td>\n",
       "      <td>...</td>\n",
       "      <td>11.931028</td>\n",
       "      <td>4.351168e-15</td>\n",
       "      <td>5.345091</td>\n",
       "      <td>5.110158</td>\n",
       "      <td>43.625740</td>\n",
       "      <td>4.194816</td>\n",
       "      <td>NaN</td>\n",
       "      <td>NaN</td>\n",
       "      <td>10.79611</td>\n",
       "      <td>2.771281</td>\n",
       "    </tr>\n",
       "    <tr>\n",
       "      <th>min</th>\n",
       "      <td>3.500000</td>\n",
       "      <td>7.0</td>\n",
       "      <td>7.680000</td>\n",
       "      <td>8.2</td>\n",
       "      <td>3.500000</td>\n",
       "      <td>12.000000</td>\n",
       "      <td>15.000000</td>\n",
       "      <td>4.500000</td>\n",
       "      <td>6.000000</td>\n",
       "      <td>1.000000</td>\n",
       "      <td>...</td>\n",
       "      <td>15.000000</td>\n",
       "      <td>2.160000e+01</td>\n",
       "      <td>6.000000</td>\n",
       "      <td>4.500000</td>\n",
       "      <td>6.500000</td>\n",
       "      <td>12.000000</td>\n",
       "      <td>15.0</td>\n",
       "      <td>19.0</td>\n",
       "      <td>12.50000</td>\n",
       "      <td>43.200000</td>\n",
       "    </tr>\n",
       "    <tr>\n",
       "      <th>25%</th>\n",
       "      <td>3.500000</td>\n",
       "      <td>7.0</td>\n",
       "      <td>26.470000</td>\n",
       "      <td>8.2</td>\n",
       "      <td>3.500000</td>\n",
       "      <td>12.000000</td>\n",
       "      <td>15.000000</td>\n",
       "      <td>4.500000</td>\n",
       "      <td>6.500000</td>\n",
       "      <td>1.000000</td>\n",
       "      <td>...</td>\n",
       "      <td>15.000000</td>\n",
       "      <td>2.160000e+01</td>\n",
       "      <td>8.000000</td>\n",
       "      <td>4.500000</td>\n",
       "      <td>6.500000</td>\n",
       "      <td>12.600000</td>\n",
       "      <td>15.0</td>\n",
       "      <td>19.0</td>\n",
       "      <td>12.50000</td>\n",
       "      <td>43.200000</td>\n",
       "    </tr>\n",
       "    <tr>\n",
       "      <th>50%</th>\n",
       "      <td>3.500000</td>\n",
       "      <td>7.0</td>\n",
       "      <td>36.630000</td>\n",
       "      <td>8.2</td>\n",
       "      <td>3.500000</td>\n",
       "      <td>12.000000</td>\n",
       "      <td>15.000000</td>\n",
       "      <td>4.500000</td>\n",
       "      <td>9.800000</td>\n",
       "      <td>1.000000</td>\n",
       "      <td>...</td>\n",
       "      <td>16.000000</td>\n",
       "      <td>2.160000e+01</td>\n",
       "      <td>12.000000</td>\n",
       "      <td>4.500000</td>\n",
       "      <td>9.800000</td>\n",
       "      <td>14.400000</td>\n",
       "      <td>15.0</td>\n",
       "      <td>19.0</td>\n",
       "      <td>12.50000</td>\n",
       "      <td>43.200000</td>\n",
       "    </tr>\n",
       "    <tr>\n",
       "      <th>75%</th>\n",
       "      <td>10.500000</td>\n",
       "      <td>7.0</td>\n",
       "      <td>58.510000</td>\n",
       "      <td>8.2</td>\n",
       "      <td>3.500000</td>\n",
       "      <td>18.000000</td>\n",
       "      <td>15.000000</td>\n",
       "      <td>9.000000</td>\n",
       "      <td>13.000000</td>\n",
       "      <td>1.000000</td>\n",
       "      <td>...</td>\n",
       "      <td>20.900000</td>\n",
       "      <td>2.160000e+01</td>\n",
       "      <td>12.000000</td>\n",
       "      <td>11.000000</td>\n",
       "      <td>14.000000</td>\n",
       "      <td>14.400000</td>\n",
       "      <td>15.0</td>\n",
       "      <td>19.0</td>\n",
       "      <td>25.00000</td>\n",
       "      <td>45.600000</td>\n",
       "    </tr>\n",
       "    <tr>\n",
       "      <th>max</th>\n",
       "      <td>31.500000</td>\n",
       "      <td>7.0</td>\n",
       "      <td>335.860000</td>\n",
       "      <td>8.2</td>\n",
       "      <td>10.500000</td>\n",
       "      <td>24.000000</td>\n",
       "      <td>30.000000</td>\n",
       "      <td>36.000000</td>\n",
       "      <td>52.000000</td>\n",
       "      <td>4.000000</td>\n",
       "      <td>...</td>\n",
       "      <td>83.600000</td>\n",
       "      <td>2.160000e+01</td>\n",
       "      <td>24.000000</td>\n",
       "      <td>27.000000</td>\n",
       "      <td>295.000000</td>\n",
       "      <td>28.800000</td>\n",
       "      <td>15.0</td>\n",
       "      <td>19.0</td>\n",
       "      <td>45.80000</td>\n",
       "      <td>48.000000</td>\n",
       "    </tr>\n",
       "  </tbody>\n",
       "</table>\n",
       "<p>8 rows × 24 columns</p>\n",
       "</div>"
      ],
      "text/plain": [
       "             AGUA  BACARDI       BUFFET  BULE CHA  CAFE EXPRESSO  CAIPIRINHA  \\\n",
       "count  405.000000      1.0  1635.000000       8.0      20.000000    7.000000   \n",
       "mean     6.154815      7.0    46.191755       8.2       4.200000   15.428571   \n",
       "std      4.529104      NaN    29.323780       0.0       1.831019    5.855400   \n",
       "min      3.500000      7.0     7.680000       8.2       3.500000   12.000000   \n",
       "25%      3.500000      7.0    26.470000       8.2       3.500000   12.000000   \n",
       "50%      3.500000      7.0    36.630000       8.2       3.500000   12.000000   \n",
       "75%     10.500000      7.0    58.510000       8.2       3.500000   18.000000   \n",
       "max     31.500000      7.0   335.860000       8.2      10.500000   24.000000   \n",
       "\n",
       "       CAIPIROSKA    CERVEJA  CERVEJA LATA        CHA    ...           SAKE  \\\n",
       "count    9.000000  91.000000     57.000000  83.000000    ...      36.000000   \n",
       "mean    17.000000   7.590659     12.584211   1.265060    ...      19.997222   \n",
       "std      4.974937   6.024104      9.490381   0.645516    ...      11.931028   \n",
       "min     15.000000   4.500000      6.000000   1.000000    ...      15.000000   \n",
       "25%     15.000000   4.500000      6.500000   1.000000    ...      15.000000   \n",
       "50%     15.000000   4.500000      9.800000   1.000000    ...      16.000000   \n",
       "75%     15.000000   9.000000     13.000000   1.000000    ...      20.900000   \n",
       "max     30.000000  36.000000     52.000000   4.000000    ...      83.600000   \n",
       "\n",
       "            SASHIMI  SOBREMESA        SUCO  SUSHI ESPECIAL     TEMAKI  \\\n",
       "count  3.000000e+00  16.000000  173.000000       43.000000  14.000000   \n",
       "mean   2.160000e+01  11.925000    7.711850       18.734884  14.742857   \n",
       "std    4.351168e-15   5.345091    5.110158       43.625740   4.194816   \n",
       "min    2.160000e+01   6.000000    4.500000        6.500000  12.000000   \n",
       "25%    2.160000e+01   8.000000    4.500000        6.500000  12.600000   \n",
       "50%    2.160000e+01  12.000000    4.500000        9.800000  14.400000   \n",
       "75%    2.160000e+01  12.000000   11.000000       14.000000  14.400000   \n",
       "max    2.160000e+01  24.000000   27.000000      295.000000  28.800000   \n",
       "\n",
       "       URAMAKI  VINHO    WHISKY  YAKISSOBA  \n",
       "count      1.0    1.0  16.00000   3.000000  \n",
       "mean      15.0   19.0  19.40000  44.800000  \n",
       "std        NaN    NaN  10.79611   2.771281  \n",
       "min       15.0   19.0  12.50000  43.200000  \n",
       "25%       15.0   19.0  12.50000  43.200000  \n",
       "50%       15.0   19.0  12.50000  43.200000  \n",
       "75%       15.0   19.0  25.00000  45.600000  \n",
       "max       15.0   19.0  45.80000  48.000000  \n",
       "\n",
       "[8 rows x 24 columns]"
      ]
     },
     "execution_count": 3,
     "metadata": {},
     "output_type": "execute_result"
    }
   ],
   "source": [
    "the_items = data['dets'].map(lambda items:{i['prod']['xProd']:i['prod']['vProd'] for i in items})\n",
    "\n",
    "pandas.DataFrame(the_items.tolist()).describe()"
   ]
  },
  {
   "cell_type": "markdown",
   "metadata": {},
   "source": [
    "As a result, some statistical quantities describing the consumption pattern are displayed. From these results it is possible to conclude that **BUFFET** is the product with largest income."
   ]
  },
  {
   "cell_type": "markdown",
   "metadata": {
    "deletable": true,
    "editable": true
   },
   "source": [
    "# 3. Sales forecast for the next week\n",
    "\n",
    "The given dataset contain transactions spanning a period of 3 weeks. For the next week, it is expected a number of transaction between 600 and 640, according to the trend of the past weeks."
   ]
  },
  {
   "cell_type": "code",
   "execution_count": 4,
   "metadata": {
    "collapsed": false,
    "deletable": true,
    "editable": true
   },
   "outputs": [],
   "source": [
    "the_time = data['ide'].map( lambda x: x['dhEmi']['$date'] )"
   ]
  },
  {
   "cell_type": "code",
   "execution_count": 5,
   "metadata": {
    "collapsed": false,
    "deletable": true,
    "editable": true
   },
   "outputs": [
    {
     "data": {
      "image/png": "[encoded data removed]",
      "text/plain": [
       "<matplotlib.figure.Figure at 0x108c558d0>"
      ]
     },
     "metadata": {},
     "output_type": "display_data"
    }
   ],
   "source": [
    "import matplotlib.pyplot as plt\n",
    "%matplotlib inline\n",
    "\n",
    "t = pandas.to_datetime(the_time)\n",
    "t.groupby(t.dt.week).count().plot()\n",
    "plt.xlabel('Week')\n",
    "plt.ylabel('Number of transactions')\n",
    "plt.grid(True)"
   ]
  }
 ],
 "metadata": {
  "kernelspec": {
   "display_name": "Python 3",
   "language": "python",
   "name": "python3"
  },
  "language_info": {
   "codemirror_mode": {
    "name": "ipython",
    "version": 3
   },
   "file_extension": ".py",
   "mimetype": "text/x-python",
   "name": "python",
   "nbconvert_exporter": "python",
   "pygments_lexer": "ipython3",
   "version": "3.6.0"
  }
 },
 "nbformat": 4,
 "nbformat_minor": 2
}
