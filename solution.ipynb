{
 "cells": [
  {
   "cell_type": "markdown",
   "metadata": {
    "deletable": true,
    "editable": true
   },
   "source": [
    "# 1. Read JSON file\n",
    "\n",
    "It is possible to use the Python library [Pandas](http://pandas.pydata.org) to read the dataset, which is given in [JSON](http://json.org) format:"
   ]
  },
  {
   "cell_type": "code",
   "execution_count": 1,
   "metadata": {
    "collapsed": false,
    "deletable": true,
    "editable": true
   },
   "outputs": [],
   "source": [
    "import numpy\n",
    "import pandas"
   ]
  },
  {
   "cell_type": "code",
   "execution_count": 2,
   "metadata": {
    "collapsed": true
   },
   "outputs": [],
   "source": [
    "data = pandas.read_json('sample.txt')"
   ]
  },
  {
   "cell_type": "markdown",
   "metadata": {},
   "source": [
    "Next step removes unnecessary information and renames conveniently the columns of the dataframe:"
   ]
  },
  {
   "cell_type": "code",
   "execution_count": 3,
   "metadata": {
    "collapsed": false
   },
   "outputs": [],
   "source": [
    "data.drop(['emit','infAdic','total','versaoDocumento'], axis=1, inplace=True)\n",
    "data.columns = ['value','items','time']"
   ]
  },
  {
   "cell_type": "code",
   "execution_count": 4,
   "metadata": {
    "collapsed": false
   },
   "outputs": [
    {
     "data": {
      "text/html": [
       "<div>\n",
       "<table border=\"1\" class=\"dataframe\">\n",
       "  <thead>\n",
       "    <tr style=\"text-align: right;\">\n",
       "      <th></th>\n",
       "      <th>value</th>\n",
       "      <th>items</th>\n",
       "      <th>time</th>\n",
       "    </tr>\n",
       "  </thead>\n",
       "  <tbody>\n",
       "    <tr>\n",
       "      <th>0</th>\n",
       "      <td>{'valorTotal': 24.9}</td>\n",
       "      <td>[{'nItem': '1', 'prod': {'indTot': '1', 'qCom'...</td>\n",
       "      <td>{'dhEmi': {'$date': '2016-01-05T12:01:54.000Z'...</td>\n",
       "    </tr>\n",
       "    <tr>\n",
       "      <th>1</th>\n",
       "      <td>{'valorTotal': 92.53}</td>\n",
       "      <td>[{'nItem': '1', 'prod': {'indTot': '1', 'qCom'...</td>\n",
       "      <td>{'dhEmi': {'$date': '2016-01-05T12:03:52.000Z'...</td>\n",
       "    </tr>\n",
       "    <tr>\n",
       "      <th>2</th>\n",
       "      <td>{'valorTotal': 57.86}</td>\n",
       "      <td>[{'nItem': '1', 'prod': {'indTot': '1', 'qCom'...</td>\n",
       "      <td>{'dhEmi': {'$date': '2016-01-05T12:16:40.000Z'...</td>\n",
       "    </tr>\n",
       "    <tr>\n",
       "      <th>3</th>\n",
       "      <td>{'valorTotal': 34.97}</td>\n",
       "      <td>[{'nItem': '1', 'prod': {'indTot': '1', 'qCom'...</td>\n",
       "      <td>{'dhEmi': {'$date': '2016-01-05T12:17:50.000Z'...</td>\n",
       "    </tr>\n",
       "    <tr>\n",
       "      <th>4</th>\n",
       "      <td>{'valorTotal': 46.23}</td>\n",
       "      <td>[{'nItem': '1', 'prod': {'indTot': '1', 'qCom'...</td>\n",
       "      <td>{'dhEmi': {'$date': '2016-01-05T12:18:35.000Z'...</td>\n",
       "    </tr>\n",
       "  </tbody>\n",
       "</table>\n",
       "</div>"
      ],
      "text/plain": [
       "                   value                                              items  \\\n",
       "0   {'valorTotal': 24.9}  [{'nItem': '1', 'prod': {'indTot': '1', 'qCom'...   \n",
       "1  {'valorTotal': 92.53}  [{'nItem': '1', 'prod': {'indTot': '1', 'qCom'...   \n",
       "2  {'valorTotal': 57.86}  [{'nItem': '1', 'prod': {'indTot': '1', 'qCom'...   \n",
       "3  {'valorTotal': 34.97}  [{'nItem': '1', 'prod': {'indTot': '1', 'qCom'...   \n",
       "4  {'valorTotal': 46.23}  [{'nItem': '1', 'prod': {'indTot': '1', 'qCom'...   \n",
       "\n",
       "                                                time  \n",
       "0  {'dhEmi': {'$date': '2016-01-05T12:01:54.000Z'...  \n",
       "1  {'dhEmi': {'$date': '2016-01-05T12:03:52.000Z'...  \n",
       "2  {'dhEmi': {'$date': '2016-01-05T12:16:40.000Z'...  \n",
       "3  {'dhEmi': {'$date': '2016-01-05T12:17:50.000Z'...  \n",
       "4  {'dhEmi': {'$date': '2016-01-05T12:18:35.000Z'...  "
      ]
     },
     "execution_count": 4,
     "metadata": {},
     "output_type": "execute_result"
    }
   ],
   "source": [
    "data.head()"
   ]
  },
  {
   "cell_type": "markdown",
   "metadata": {
    "collapsed": false,
    "deletable": true,
    "editable": true
   },
   "source": [
    "## Parse and extract the data\n",
    "The following code retrieves name-value pairs for each item using the syntax of [dict comprehensions](https://www.python.org/dev/peps/pep-0274/). Other manipulations are done to parse the data and extract useful information."
   ]
  },
  {
   "cell_type": "code",
   "execution_count": 5,
   "metadata": {
    "collapsed": false
   },
   "outputs": [],
   "source": [
    "key_value = lambda items: { i['prod']['xProd']:i['prod']['vProd'] for i in items }\n",
    "data['items'] = data['items'].apply(key_value)"
   ]
  },
  {
   "cell_type": "code",
   "execution_count": 6,
   "metadata": {
    "collapsed": true
   },
   "outputs": [],
   "source": [
    "data['value'] = data['value'].apply( lambda x: x['valorTotal'] )"
   ]
  },
  {
   "cell_type": "code",
   "execution_count": 7,
   "metadata": {
    "collapsed": true
   },
   "outputs": [],
   "source": [
    "data['time'] = data['time'].apply( lambda x: x['dhEmi']['$date'] )\n",
    "data['time'] = pandas.to_datetime(data['time'])"
   ]
  },
  {
   "cell_type": "code",
   "execution_count": 8,
   "metadata": {
    "collapsed": false
   },
   "outputs": [
    {
     "data": {
      "text/html": [
       "<div>\n",
       "<table border=\"1\" class=\"dataframe\">\n",
       "  <thead>\n",
       "    <tr style=\"text-align: right;\">\n",
       "      <th></th>\n",
       "      <th>value</th>\n",
       "      <th>items</th>\n",
       "      <th>time</th>\n",
       "    </tr>\n",
       "  </thead>\n",
       "  <tbody>\n",
       "    <tr>\n",
       "      <th>0</th>\n",
       "      <td>24.90</td>\n",
       "      <td>{'AGUA': 3.5, 'BUFFET': 21.4}</td>\n",
       "      <td>2016-01-05 12:01:54</td>\n",
       "    </tr>\n",
       "    <tr>\n",
       "      <th>1</th>\n",
       "      <td>92.53</td>\n",
       "      <td>{'BUFFET': 83.55, 'REFRIGERANTE': 9.0}</td>\n",
       "      <td>2016-01-05 12:03:52</td>\n",
       "    </tr>\n",
       "    <tr>\n",
       "      <th>2</th>\n",
       "      <td>57.86</td>\n",
       "      <td>{'SUCO': 4.5, 'BUFFET': 53.37}</td>\n",
       "      <td>2016-01-05 12:16:40</td>\n",
       "    </tr>\n",
       "    <tr>\n",
       "      <th>3</th>\n",
       "      <td>34.97</td>\n",
       "      <td>{'BUFFET': 34.98}</td>\n",
       "      <td>2016-01-05 12:17:50</td>\n",
       "    </tr>\n",
       "    <tr>\n",
       "      <th>4</th>\n",
       "      <td>46.23</td>\n",
       "      <td>{'BUFFET': 46.23}</td>\n",
       "      <td>2016-01-05 12:18:35</td>\n",
       "    </tr>\n",
       "  </tbody>\n",
       "</table>\n",
       "</div>"
      ],
      "text/plain": [
       "   value                                   items                time\n",
       "0  24.90           {'AGUA': 3.5, 'BUFFET': 21.4} 2016-01-05 12:01:54\n",
       "1  92.53  {'BUFFET': 83.55, 'REFRIGERANTE': 9.0} 2016-01-05 12:03:52\n",
       "2  57.86          {'SUCO': 4.5, 'BUFFET': 53.37} 2016-01-05 12:16:40\n",
       "3  34.97                       {'BUFFET': 34.98} 2016-01-05 12:17:50\n",
       "4  46.23                       {'BUFFET': 46.23} 2016-01-05 12:18:35"
      ]
     },
     "execution_count": 8,
     "metadata": {},
     "output_type": "execute_result"
    }
   ],
   "source": [
    "data.head()"
   ]
  },
  {
   "cell_type": "markdown",
   "metadata": {
    "deletable": true,
    "editable": true
   },
   "source": [
    "# 2. Consumption pattern\n",
    "\n",
    "The income of the transactions can be arranged in a 2-dimensional matrix with the number of rows equal to the number of transactions and the number of columns equal to the number of products. A cell **( i , j )** contains the income due to product **j** in the transaction **i**; otherwise, NaN is displayed."
   ]
  },
  {
   "cell_type": "code",
   "execution_count": 9,
   "metadata": {
    "collapsed": false,
    "deletable": true,
    "editable": true
   },
   "outputs": [],
   "source": [
    "the_items = pandas.DataFrame(data['items'].tolist())"
   ]
  },
  {
   "cell_type": "code",
   "execution_count": 10,
   "metadata": {
    "collapsed": false
   },
   "outputs": [
    {
     "data": {
      "text/html": [
       "<div>\n",
       "<table border=\"1\" class=\"dataframe\">\n",
       "  <thead>\n",
       "    <tr style=\"text-align: right;\">\n",
       "      <th></th>\n",
       "      <th>AGUA</th>\n",
       "      <th>BACARDI</th>\n",
       "      <th>BUFFET</th>\n",
       "      <th>BULE CHA</th>\n",
       "      <th>CAFE EXPRESSO</th>\n",
       "      <th>CAIPIRINHA</th>\n",
       "      <th>CAIPIROSKA</th>\n",
       "      <th>CERVEJA</th>\n",
       "      <th>CERVEJA LATA</th>\n",
       "      <th>CHA</th>\n",
       "      <th>...</th>\n",
       "      <th>SAKE</th>\n",
       "      <th>SASHIMI</th>\n",
       "      <th>SOBREMESA</th>\n",
       "      <th>SUCO</th>\n",
       "      <th>SUSHI ESPECIAL</th>\n",
       "      <th>TEMAKI</th>\n",
       "      <th>URAMAKI</th>\n",
       "      <th>VINHO</th>\n",
       "      <th>WHISKY</th>\n",
       "      <th>YAKISSOBA</th>\n",
       "    </tr>\n",
       "  </thead>\n",
       "  <tbody>\n",
       "    <tr>\n",
       "      <th>0</th>\n",
       "      <td>3.5</td>\n",
       "      <td>NaN</td>\n",
       "      <td>21.40</td>\n",
       "      <td>NaN</td>\n",
       "      <td>NaN</td>\n",
       "      <td>NaN</td>\n",
       "      <td>NaN</td>\n",
       "      <td>NaN</td>\n",
       "      <td>NaN</td>\n",
       "      <td>NaN</td>\n",
       "      <td>...</td>\n",
       "      <td>NaN</td>\n",
       "      <td>NaN</td>\n",
       "      <td>NaN</td>\n",
       "      <td>NaN</td>\n",
       "      <td>NaN</td>\n",
       "      <td>NaN</td>\n",
       "      <td>NaN</td>\n",
       "      <td>NaN</td>\n",
       "      <td>NaN</td>\n",
       "      <td>NaN</td>\n",
       "    </tr>\n",
       "    <tr>\n",
       "      <th>1</th>\n",
       "      <td>NaN</td>\n",
       "      <td>NaN</td>\n",
       "      <td>83.55</td>\n",
       "      <td>NaN</td>\n",
       "      <td>NaN</td>\n",
       "      <td>NaN</td>\n",
       "      <td>NaN</td>\n",
       "      <td>NaN</td>\n",
       "      <td>NaN</td>\n",
       "      <td>NaN</td>\n",
       "      <td>...</td>\n",
       "      <td>NaN</td>\n",
       "      <td>NaN</td>\n",
       "      <td>NaN</td>\n",
       "      <td>NaN</td>\n",
       "      <td>NaN</td>\n",
       "      <td>NaN</td>\n",
       "      <td>NaN</td>\n",
       "      <td>NaN</td>\n",
       "      <td>NaN</td>\n",
       "      <td>NaN</td>\n",
       "    </tr>\n",
       "    <tr>\n",
       "      <th>2</th>\n",
       "      <td>NaN</td>\n",
       "      <td>NaN</td>\n",
       "      <td>53.37</td>\n",
       "      <td>NaN</td>\n",
       "      <td>NaN</td>\n",
       "      <td>NaN</td>\n",
       "      <td>NaN</td>\n",
       "      <td>NaN</td>\n",
       "      <td>NaN</td>\n",
       "      <td>NaN</td>\n",
       "      <td>...</td>\n",
       "      <td>NaN</td>\n",
       "      <td>NaN</td>\n",
       "      <td>NaN</td>\n",
       "      <td>4.5</td>\n",
       "      <td>NaN</td>\n",
       "      <td>NaN</td>\n",
       "      <td>NaN</td>\n",
       "      <td>NaN</td>\n",
       "      <td>NaN</td>\n",
       "      <td>NaN</td>\n",
       "    </tr>\n",
       "    <tr>\n",
       "      <th>3</th>\n",
       "      <td>NaN</td>\n",
       "      <td>NaN</td>\n",
       "      <td>34.98</td>\n",
       "      <td>NaN</td>\n",
       "      <td>NaN</td>\n",
       "      <td>NaN</td>\n",
       "      <td>NaN</td>\n",
       "      <td>NaN</td>\n",
       "      <td>NaN</td>\n",
       "      <td>NaN</td>\n",
       "      <td>...</td>\n",
       "      <td>NaN</td>\n",
       "      <td>NaN</td>\n",
       "      <td>NaN</td>\n",
       "      <td>NaN</td>\n",
       "      <td>NaN</td>\n",
       "      <td>NaN</td>\n",
       "      <td>NaN</td>\n",
       "      <td>NaN</td>\n",
       "      <td>NaN</td>\n",
       "      <td>NaN</td>\n",
       "    </tr>\n",
       "    <tr>\n",
       "      <th>4</th>\n",
       "      <td>NaN</td>\n",
       "      <td>NaN</td>\n",
       "      <td>46.23</td>\n",
       "      <td>NaN</td>\n",
       "      <td>NaN</td>\n",
       "      <td>NaN</td>\n",
       "      <td>NaN</td>\n",
       "      <td>NaN</td>\n",
       "      <td>NaN</td>\n",
       "      <td>NaN</td>\n",
       "      <td>...</td>\n",
       "      <td>NaN</td>\n",
       "      <td>NaN</td>\n",
       "      <td>NaN</td>\n",
       "      <td>NaN</td>\n",
       "      <td>NaN</td>\n",
       "      <td>NaN</td>\n",
       "      <td>NaN</td>\n",
       "      <td>NaN</td>\n",
       "      <td>NaN</td>\n",
       "      <td>NaN</td>\n",
       "    </tr>\n",
       "  </tbody>\n",
       "</table>\n",
       "<p>5 rows × 24 columns</p>\n",
       "</div>"
      ],
      "text/plain": [
       "   AGUA  BACARDI  BUFFET  BULE CHA  CAFE EXPRESSO  CAIPIRINHA  CAIPIROSKA  \\\n",
       "0   3.5      NaN   21.40       NaN            NaN         NaN         NaN   \n",
       "1   NaN      NaN   83.55       NaN            NaN         NaN         NaN   \n",
       "2   NaN      NaN   53.37       NaN            NaN         NaN         NaN   \n",
       "3   NaN      NaN   34.98       NaN            NaN         NaN         NaN   \n",
       "4   NaN      NaN   46.23       NaN            NaN         NaN         NaN   \n",
       "\n",
       "   CERVEJA  CERVEJA LATA  CHA    ...      SAKE  SASHIMI  SOBREMESA  SUCO  \\\n",
       "0      NaN           NaN  NaN    ...       NaN      NaN        NaN   NaN   \n",
       "1      NaN           NaN  NaN    ...       NaN      NaN        NaN   NaN   \n",
       "2      NaN           NaN  NaN    ...       NaN      NaN        NaN   4.5   \n",
       "3      NaN           NaN  NaN    ...       NaN      NaN        NaN   NaN   \n",
       "4      NaN           NaN  NaN    ...       NaN      NaN        NaN   NaN   \n",
       "\n",
       "   SUSHI ESPECIAL  TEMAKI  URAMAKI  VINHO  WHISKY  YAKISSOBA  \n",
       "0             NaN     NaN      NaN    NaN     NaN        NaN  \n",
       "1             NaN     NaN      NaN    NaN     NaN        NaN  \n",
       "2             NaN     NaN      NaN    NaN     NaN        NaN  \n",
       "3             NaN     NaN      NaN    NaN     NaN        NaN  \n",
       "4             NaN     NaN      NaN    NaN     NaN        NaN  \n",
       "\n",
       "[5 rows x 24 columns]"
      ]
     },
     "execution_count": 10,
     "metadata": {},
     "output_type": "execute_result"
    }
   ],
   "source": [
    "the_items.head()"
   ]
  },
  {
   "cell_type": "code",
   "execution_count": 11,
   "metadata": {
    "collapsed": false
   },
   "outputs": [
    {
     "data": {
      "text/html": [
       "<div>\n",
       "<table border=\"1\" class=\"dataframe\">\n",
       "  <thead>\n",
       "    <tr style=\"text-align: right;\">\n",
       "      <th></th>\n",
       "      <th>AGUA</th>\n",
       "      <th>BACARDI</th>\n",
       "      <th>BUFFET</th>\n",
       "      <th>BULE CHA</th>\n",
       "      <th>CAFE EXPRESSO</th>\n",
       "      <th>CAIPIRINHA</th>\n",
       "      <th>CAIPIROSKA</th>\n",
       "      <th>CERVEJA</th>\n",
       "      <th>CERVEJA LATA</th>\n",
       "      <th>CHA</th>\n",
       "      <th>...</th>\n",
       "      <th>SAKE</th>\n",
       "      <th>SASHIMI</th>\n",
       "      <th>SOBREMESA</th>\n",
       "      <th>SUCO</th>\n",
       "      <th>SUSHI ESPECIAL</th>\n",
       "      <th>TEMAKI</th>\n",
       "      <th>URAMAKI</th>\n",
       "      <th>VINHO</th>\n",
       "      <th>WHISKY</th>\n",
       "      <th>YAKISSOBA</th>\n",
       "    </tr>\n",
       "  </thead>\n",
       "  <tbody>\n",
       "    <tr>\n",
       "      <th>count</th>\n",
       "      <td>405.000000</td>\n",
       "      <td>1.0</td>\n",
       "      <td>1635.000000</td>\n",
       "      <td>8.0</td>\n",
       "      <td>20.000000</td>\n",
       "      <td>7.000000</td>\n",
       "      <td>9.000000</td>\n",
       "      <td>91.000000</td>\n",
       "      <td>57.000000</td>\n",
       "      <td>83.000000</td>\n",
       "      <td>...</td>\n",
       "      <td>36.000000</td>\n",
       "      <td>3.000000e+00</td>\n",
       "      <td>16.000000</td>\n",
       "      <td>173.000000</td>\n",
       "      <td>43.000000</td>\n",
       "      <td>14.000000</td>\n",
       "      <td>1.0</td>\n",
       "      <td>1.0</td>\n",
       "      <td>16.00000</td>\n",
       "      <td>3.000000</td>\n",
       "    </tr>\n",
       "    <tr>\n",
       "      <th>mean</th>\n",
       "      <td>6.154815</td>\n",
       "      <td>7.0</td>\n",
       "      <td>46.191755</td>\n",
       "      <td>8.2</td>\n",
       "      <td>4.200000</td>\n",
       "      <td>15.428571</td>\n",
       "      <td>17.000000</td>\n",
       "      <td>7.590659</td>\n",
       "      <td>12.584211</td>\n",
       "      <td>1.265060</td>\n",
       "      <td>...</td>\n",
       "      <td>19.997222</td>\n",
       "      <td>2.160000e+01</td>\n",
       "      <td>11.925000</td>\n",
       "      <td>7.711850</td>\n",
       "      <td>18.734884</td>\n",
       "      <td>14.742857</td>\n",
       "      <td>15.0</td>\n",
       "      <td>19.0</td>\n",
       "      <td>19.40000</td>\n",
       "      <td>44.800000</td>\n",
       "    </tr>\n",
       "    <tr>\n",
       "      <th>std</th>\n",
       "      <td>4.529104</td>\n",
       "      <td>NaN</td>\n",
       "      <td>29.323780</td>\n",
       "      <td>0.0</td>\n",
       "      <td>1.831019</td>\n",
       "      <td>5.855400</td>\n",
       "      <td>4.974937</td>\n",
       "      <td>6.024104</td>\n",
       "      <td>9.490381</td>\n",
       "      <td>0.645516</td>\n",
       "      <td>...</td>\n",
       "      <td>11.931028</td>\n",
       "      <td>4.351168e-15</td>\n",
       "      <td>5.345091</td>\n",
       "      <td>5.110158</td>\n",
       "      <td>43.625740</td>\n",
       "      <td>4.194816</td>\n",
       "      <td>NaN</td>\n",
       "      <td>NaN</td>\n",
       "      <td>10.79611</td>\n",
       "      <td>2.771281</td>\n",
       "    </tr>\n",
       "    <tr>\n",
       "      <th>min</th>\n",
       "      <td>3.500000</td>\n",
       "      <td>7.0</td>\n",
       "      <td>7.680000</td>\n",
       "      <td>8.2</td>\n",
       "      <td>3.500000</td>\n",
       "      <td>12.000000</td>\n",
       "      <td>15.000000</td>\n",
       "      <td>4.500000</td>\n",
       "      <td>6.000000</td>\n",
       "      <td>1.000000</td>\n",
       "      <td>...</td>\n",
       "      <td>15.000000</td>\n",
       "      <td>2.160000e+01</td>\n",
       "      <td>6.000000</td>\n",
       "      <td>4.500000</td>\n",
       "      <td>6.500000</td>\n",
       "      <td>12.000000</td>\n",
       "      <td>15.0</td>\n",
       "      <td>19.0</td>\n",
       "      <td>12.50000</td>\n",
       "      <td>43.200000</td>\n",
       "    </tr>\n",
       "    <tr>\n",
       "      <th>25%</th>\n",
       "      <td>3.500000</td>\n",
       "      <td>7.0</td>\n",
       "      <td>26.470000</td>\n",
       "      <td>8.2</td>\n",
       "      <td>3.500000</td>\n",
       "      <td>12.000000</td>\n",
       "      <td>15.000000</td>\n",
       "      <td>4.500000</td>\n",
       "      <td>6.500000</td>\n",
       "      <td>1.000000</td>\n",
       "      <td>...</td>\n",
       "      <td>15.000000</td>\n",
       "      <td>2.160000e+01</td>\n",
       "      <td>8.000000</td>\n",
       "      <td>4.500000</td>\n",
       "      <td>6.500000</td>\n",
       "      <td>12.600000</td>\n",
       "      <td>15.0</td>\n",
       "      <td>19.0</td>\n",
       "      <td>12.50000</td>\n",
       "      <td>43.200000</td>\n",
       "    </tr>\n",
       "    <tr>\n",
       "      <th>50%</th>\n",
       "      <td>3.500000</td>\n",
       "      <td>7.0</td>\n",
       "      <td>36.630000</td>\n",
       "      <td>8.2</td>\n",
       "      <td>3.500000</td>\n",
       "      <td>12.000000</td>\n",
       "      <td>15.000000</td>\n",
       "      <td>4.500000</td>\n",
       "      <td>9.800000</td>\n",
       "      <td>1.000000</td>\n",
       "      <td>...</td>\n",
       "      <td>16.000000</td>\n",
       "      <td>2.160000e+01</td>\n",
       "      <td>12.000000</td>\n",
       "      <td>4.500000</td>\n",
       "      <td>9.800000</td>\n",
       "      <td>14.400000</td>\n",
       "      <td>15.0</td>\n",
       "      <td>19.0</td>\n",
       "      <td>12.50000</td>\n",
       "      <td>43.200000</td>\n",
       "    </tr>\n",
       "    <tr>\n",
       "      <th>75%</th>\n",
       "      <td>10.500000</td>\n",
       "      <td>7.0</td>\n",
       "      <td>58.510000</td>\n",
       "      <td>8.2</td>\n",
       "      <td>3.500000</td>\n",
       "      <td>18.000000</td>\n",
       "      <td>15.000000</td>\n",
       "      <td>9.000000</td>\n",
       "      <td>13.000000</td>\n",
       "      <td>1.000000</td>\n",
       "      <td>...</td>\n",
       "      <td>20.900000</td>\n",
       "      <td>2.160000e+01</td>\n",
       "      <td>12.000000</td>\n",
       "      <td>11.000000</td>\n",
       "      <td>14.000000</td>\n",
       "      <td>14.400000</td>\n",
       "      <td>15.0</td>\n",
       "      <td>19.0</td>\n",
       "      <td>25.00000</td>\n",
       "      <td>45.600000</td>\n",
       "    </tr>\n",
       "    <tr>\n",
       "      <th>max</th>\n",
       "      <td>31.500000</td>\n",
       "      <td>7.0</td>\n",
       "      <td>335.860000</td>\n",
       "      <td>8.2</td>\n",
       "      <td>10.500000</td>\n",
       "      <td>24.000000</td>\n",
       "      <td>30.000000</td>\n",
       "      <td>36.000000</td>\n",
       "      <td>52.000000</td>\n",
       "      <td>4.000000</td>\n",
       "      <td>...</td>\n",
       "      <td>83.600000</td>\n",
       "      <td>2.160000e+01</td>\n",
       "      <td>24.000000</td>\n",
       "      <td>27.000000</td>\n",
       "      <td>295.000000</td>\n",
       "      <td>28.800000</td>\n",
       "      <td>15.0</td>\n",
       "      <td>19.0</td>\n",
       "      <td>45.80000</td>\n",
       "      <td>48.000000</td>\n",
       "    </tr>\n",
       "  </tbody>\n",
       "</table>\n",
       "<p>8 rows × 24 columns</p>\n",
       "</div>"
      ],
      "text/plain": [
       "             AGUA  BACARDI       BUFFET  BULE CHA  CAFE EXPRESSO  CAIPIRINHA  \\\n",
       "count  405.000000      1.0  1635.000000       8.0      20.000000    7.000000   \n",
       "mean     6.154815      7.0    46.191755       8.2       4.200000   15.428571   \n",
       "std      4.529104      NaN    29.323780       0.0       1.831019    5.855400   \n",
       "min      3.500000      7.0     7.680000       8.2       3.500000   12.000000   \n",
       "25%      3.500000      7.0    26.470000       8.2       3.500000   12.000000   \n",
       "50%      3.500000      7.0    36.630000       8.2       3.500000   12.000000   \n",
       "75%     10.500000      7.0    58.510000       8.2       3.500000   18.000000   \n",
       "max     31.500000      7.0   335.860000       8.2      10.500000   24.000000   \n",
       "\n",
       "       CAIPIROSKA    CERVEJA  CERVEJA LATA        CHA    ...           SAKE  \\\n",
       "count    9.000000  91.000000     57.000000  83.000000    ...      36.000000   \n",
       "mean    17.000000   7.590659     12.584211   1.265060    ...      19.997222   \n",
       "std      4.974937   6.024104      9.490381   0.645516    ...      11.931028   \n",
       "min     15.000000   4.500000      6.000000   1.000000    ...      15.000000   \n",
       "25%     15.000000   4.500000      6.500000   1.000000    ...      15.000000   \n",
       "50%     15.000000   4.500000      9.800000   1.000000    ...      16.000000   \n",
       "75%     15.000000   9.000000     13.000000   1.000000    ...      20.900000   \n",
       "max     30.000000  36.000000     52.000000   4.000000    ...      83.600000   \n",
       "\n",
       "            SASHIMI  SOBREMESA        SUCO  SUSHI ESPECIAL     TEMAKI  \\\n",
       "count  3.000000e+00  16.000000  173.000000       43.000000  14.000000   \n",
       "mean   2.160000e+01  11.925000    7.711850       18.734884  14.742857   \n",
       "std    4.351168e-15   5.345091    5.110158       43.625740   4.194816   \n",
       "min    2.160000e+01   6.000000    4.500000        6.500000  12.000000   \n",
       "25%    2.160000e+01   8.000000    4.500000        6.500000  12.600000   \n",
       "50%    2.160000e+01  12.000000    4.500000        9.800000  14.400000   \n",
       "75%    2.160000e+01  12.000000   11.000000       14.000000  14.400000   \n",
       "max    2.160000e+01  24.000000   27.000000      295.000000  28.800000   \n",
       "\n",
       "       URAMAKI  VINHO    WHISKY  YAKISSOBA  \n",
       "count      1.0    1.0  16.00000   3.000000  \n",
       "mean      15.0   19.0  19.40000  44.800000  \n",
       "std        NaN    NaN  10.79611   2.771281  \n",
       "min       15.0   19.0  12.50000  43.200000  \n",
       "25%       15.0   19.0  12.50000  43.200000  \n",
       "50%       15.0   19.0  12.50000  43.200000  \n",
       "75%       15.0   19.0  25.00000  45.600000  \n",
       "max       15.0   19.0  45.80000  48.000000  \n",
       "\n",
       "[8 rows x 24 columns]"
      ]
     },
     "execution_count": 11,
     "metadata": {},
     "output_type": "execute_result"
    }
   ],
   "source": [
    "the_items.describe()"
   ]
  },
  {
   "cell_type": "markdown",
   "metadata": {
    "deletable": true,
    "editable": true
   },
   "source": [
    "Some statistical quantities describing the consumption pattern were displayed. From these results, it is possible to conclude that **BUFFET** is the product with largest income."
   ]
  },
  {
   "cell_type": "markdown",
   "metadata": {
    "deletable": true,
    "editable": true
   },
   "source": [
    "# 3. Sales forecast for the next week\n",
    "\n",
    "The given dataset contain transactions spanning a period of 3 weeks."
   ]
  },
  {
   "cell_type": "code",
   "execution_count": 12,
   "metadata": {
    "collapsed": false,
    "deletable": true,
    "editable": true
   },
   "outputs": [
    {
     "data": {
      "image/png": "[encoded data removed]",
      "text/plain": [
       "<matplotlib.figure.Figure at 0x107412ba8>"
      ]
     },
     "metadata": {},
     "output_type": "display_data"
    }
   ],
   "source": [
    "import matplotlib.pyplot as plt\n",
    "%matplotlib inline\n",
    "\n",
    "week_data = data.groupby(data['time'].dt.week)\n",
    "\n",
    "week_data.count().plot(y='value', color='Black', marker='x', legend=False)\n",
    "plt.xlabel('Week')\n",
    "plt.ylabel('Total number of transactions')\n",
    "plt.grid(True)"
   ]
  },
  {
   "cell_type": "markdown",
   "metadata": {},
   "source": [
    "## Linear regression"
   ]
  },
  {
   "cell_type": "markdown",
   "metadata": {},
   "source": [
    "The sales forecast for the next week can be estimated by linear regression:"
   ]
  },
  {
   "cell_type": "code",
   "execution_count": 16,
   "metadata": {
    "collapsed": false
   },
   "outputs": [],
   "source": [
    "from sklearn import linear_model\n",
    "\n",
    "y = week_data.sum().values\n",
    "X = numpy.arange(1,len(y)+1)\n",
    "\n",
    "reg = linear_model.LinearRegression().fit(X.reshape(-1, 1), y)\n",
    "\n",
    "a = reg.intercept_\n",
    "b = reg.coef_[0]"
   ]
  },
  {
   "cell_type": "code",
   "execution_count": 17,
   "metadata": {
    "collapsed": false
   },
   "outputs": [
    {
     "data": {
      "image/png": "[encoded data removed]",
      "text/plain": [
       "<matplotlib.figure.Figure at 0x1077094e0>"
      ]
     },
     "metadata": {},
     "output_type": "display_data"
    }
   ],
   "source": [
    "fig, ax = plt.subplots()\n",
    "\n",
    "xx = numpy.linspace(1,len(y)+1)\n",
    "yy = a + b*xx\n",
    "\n",
    "ax.plot(X, y.ravel(), color='Black', marker='x')\n",
    "ax.plot(xx, yy, color='Red')\n",
    "\n",
    "plt.xlabel('Week')\n",
    "plt.ylabel('Total value')\n",
    "plt.grid(True)"
   ]
  },
  {
   "cell_type": "code",
   "execution_count": 18,
   "metadata": {
    "collapsed": false
   },
   "outputs": [
    {
     "data": {
      "text/plain": [
       "array([ 40821.53333333])"
      ]
     },
     "execution_count": 18,
     "metadata": {},
     "output_type": "execute_result"
    }
   ],
   "source": [
    "a + 4*b"
   ]
  },
  {
   "cell_type": "markdown",
   "metadata": {},
   "source": [
    "The total value of sells forecated for next week is close to **41000**."
   ]
  }
 ],
 "metadata": {
  "kernelspec": {
   "display_name": "Python 3",
   "language": "python",
   "name": "python3"
  },
  "language_info": {
   "codemirror_mode": {
    "name": "ipython",
    "version": 3
   },
   "file_extension": ".py",
   "mimetype": "text/x-python",
   "name": "python",
   "nbconvert_exporter": "python",
   "pygments_lexer": "ipython3",
   "version": "3.6.0"
  }
 },
 "nbformat": 4,
 "nbformat_minor": 2
}
