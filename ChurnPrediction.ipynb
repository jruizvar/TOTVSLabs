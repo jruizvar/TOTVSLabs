{
 "cells": [
  {
   "cell_type": "markdown",
   "metadata": {},
   "source": [
    "# Customer Churn Prediction"
   ]
  },
  {
   "cell_type": "code",
   "execution_count": 1,
   "metadata": {},
   "outputs": [],
   "source": [
    "%matplotlib inline\n",
    "import matplotlib.pyplot as plt\n",
    "plt.style.use('seaborn-talk')\n",
    "\n",
    "import numpy as np\n",
    "import pandas as pd\n",
    "\n",
    "from sklearn.ensemble import RandomForestClassifier\n",
    "from sklearn.linear_model import LogisticRegression\n",
    "from sklearn.model_selection import cross_val_score\n",
    "from sklearn.pipeline import make_pipeline\n",
    "from sklearn.preprocessing import StandardScaler"
   ]
  },
  {
   "cell_type": "code",
   "execution_count": 2,
   "metadata": {},
   "outputs": [],
   "source": [
    "import warnings\n",
    "from sklearn.exceptions import DataConversionWarning\n",
    "\n",
    "warnings.filterwarnings(action='ignore', category=DataConversionWarning)"
   ]
  },
  {
   "cell_type": "code",
   "execution_count": 3,
   "metadata": {},
   "outputs": [
    {
     "data": {
      "text/html": [
       "<div>\n",
       "<style scoped>\n",
       "    .dataframe tbody tr th:only-of-type {\n",
       "        vertical-align: middle;\n",
       "    }\n",
       "\n",
       "    .dataframe tbody tr th {\n",
       "        vertical-align: top;\n",
       "    }\n",
       "\n",
       "    .dataframe thead th {\n",
       "        text-align: right;\n",
       "    }\n",
       "</style>\n",
       "<table border=\"1\" class=\"dataframe\">\n",
       "  <thead>\n",
       "    <tr style=\"text-align: right;\">\n",
       "      <th></th>\n",
       "      <th>branch_id</th>\n",
       "      <th>customer_code</th>\n",
       "      <th>group_code</th>\n",
       "      <th>is_churn</th>\n",
       "      <th>item_code</th>\n",
       "      <th>item_total_price</th>\n",
       "      <th>order_id</th>\n",
       "      <th>quantity</th>\n",
       "      <th>register_date</th>\n",
       "      <th>sales_channel</th>\n",
       "      <th>segment_code</th>\n",
       "      <th>seller_code</th>\n",
       "      <th>total_price</th>\n",
       "      <th>unit_price</th>\n",
       "    </tr>\n",
       "  </thead>\n",
       "  <tbody>\n",
       "    <tr>\n",
       "      <th>0</th>\n",
       "      <td>0</td>\n",
       "      <td>143</td>\n",
       "      <td>0</td>\n",
       "      <td>0.0</td>\n",
       "      <td>854</td>\n",
       "      <td>292.91</td>\n",
       "      <td>21804</td>\n",
       "      <td>10</td>\n",
       "      <td>2017-11-10T00:00:00Z</td>\n",
       "      <td>0</td>\n",
       "      <td>0</td>\n",
       "      <td>190</td>\n",
       "      <td>1613.53</td>\n",
       "      <td>25.04</td>\n",
       "    </tr>\n",
       "    <tr>\n",
       "      <th>1</th>\n",
       "      <td>0</td>\n",
       "      <td>433</td>\n",
       "      <td>0</td>\n",
       "      <td>0.0</td>\n",
       "      <td>246</td>\n",
       "      <td>287.19</td>\n",
       "      <td>5486</td>\n",
       "      <td>20</td>\n",
       "      <td>2011-05-16T00:00:00Z</td>\n",
       "      <td>1</td>\n",
       "      <td>5</td>\n",
       "      <td>153</td>\n",
       "      <td>11163.69</td>\n",
       "      <td>12.33</td>\n",
       "    </tr>\n",
       "    <tr>\n",
       "      <th>2</th>\n",
       "      <td>0</td>\n",
       "      <td>486</td>\n",
       "      <td>0</td>\n",
       "      <td>0.0</td>\n",
       "      <td>1420</td>\n",
       "      <td>184.84</td>\n",
       "      <td>22662</td>\n",
       "      <td>12</td>\n",
       "      <td>2018-01-24T00:00:00Z</td>\n",
       "      <td>0</td>\n",
       "      <td>0</td>\n",
       "      <td>166</td>\n",
       "      <td>6432.12</td>\n",
       "      <td>12.80</td>\n",
       "    </tr>\n",
       "    <tr>\n",
       "      <th>3</th>\n",
       "      <td>0</td>\n",
       "      <td>107</td>\n",
       "      <td>0</td>\n",
       "      <td>0.0</td>\n",
       "      <td>1963</td>\n",
       "      <td>189.18</td>\n",
       "      <td>3956</td>\n",
       "      <td>18</td>\n",
       "      <td>2010-07-28T00:00:00Z</td>\n",
       "      <td>1</td>\n",
       "      <td>0</td>\n",
       "      <td>156</td>\n",
       "      <td>831.82</td>\n",
       "      <td>10.51</td>\n",
       "    </tr>\n",
       "    <tr>\n",
       "      <th>4</th>\n",
       "      <td>0</td>\n",
       "      <td>768</td>\n",
       "      <td>0</td>\n",
       "      <td>0.0</td>\n",
       "      <td>1786</td>\n",
       "      <td>66.87</td>\n",
       "      <td>4730</td>\n",
       "      <td>5</td>\n",
       "      <td>2010-12-17T00:00:00Z</td>\n",
       "      <td>1</td>\n",
       "      <td>0</td>\n",
       "      <td>218</td>\n",
       "      <td>1736.48</td>\n",
       "      <td>11.82</td>\n",
       "    </tr>\n",
       "  </tbody>\n",
       "</table>\n",
       "</div>"
      ],
      "text/plain": [
       "   branch_id  customer_code  group_code  is_churn  item_code  \\\n",
       "0          0            143           0       0.0        854   \n",
       "1          0            433           0       0.0        246   \n",
       "2          0            486           0       0.0       1420   \n",
       "3          0            107           0       0.0       1963   \n",
       "4          0            768           0       0.0       1786   \n",
       "\n",
       "   item_total_price  order_id  quantity         register_date  sales_channel  \\\n",
       "0            292.91     21804        10  2017-11-10T00:00:00Z              0   \n",
       "1            287.19      5486        20  2011-05-16T00:00:00Z              1   \n",
       "2            184.84     22662        12  2018-01-24T00:00:00Z              0   \n",
       "3            189.18      3956        18  2010-07-28T00:00:00Z              1   \n",
       "4             66.87      4730         5  2010-12-17T00:00:00Z              1   \n",
       "\n",
       "   segment_code  seller_code  total_price  unit_price  \n",
       "0             0          190      1613.53       25.04  \n",
       "1             5          153     11163.69       12.33  \n",
       "2             0          166      6432.12       12.80  \n",
       "3             0          156       831.82       10.51  \n",
       "4             0          218      1736.48       11.82  "
      ]
     },
     "execution_count": 3,
     "metadata": {},
     "output_type": "execute_result"
    }
   ],
   "source": [
    "data = pd.read_json(\"challenge.json\").dropna()\n",
    "\n",
    "data.head()"
   ]
  },
  {
   "cell_type": "markdown",
   "metadata": {},
   "source": [
    "# Feature engineering\n",
    "\n",
    "\n",
    "For each customer we extract the following features:\n",
    "\n",
    "* The order_id of the first order and the associated seller_code.\n",
    "* The item_code of the last item.\n",
    "* The mean quantity.\n",
    "* The mean item_total_price.\n",
    "* The mean total_price.\n",
    "* The mean unit_price."
   ]
  },
  {
   "cell_type": "code",
   "execution_count": 4,
   "metadata": {},
   "outputs": [
    {
     "data": {
      "text/html": [
       "<div>\n",
       "<style scoped>\n",
       "    .dataframe tbody tr th:only-of-type {\n",
       "        vertical-align: middle;\n",
       "    }\n",
       "\n",
       "    .dataframe tbody tr th {\n",
       "        vertical-align: top;\n",
       "    }\n",
       "\n",
       "    .dataframe thead th {\n",
       "        text-align: right;\n",
       "    }\n",
       "</style>\n",
       "<table border=\"1\" class=\"dataframe\">\n",
       "  <thead>\n",
       "    <tr style=\"text-align: right;\">\n",
       "      <th></th>\n",
       "      <th>is_churn</th>\n",
       "      <th>item_code</th>\n",
       "      <th>item_total_price</th>\n",
       "      <th>order_id</th>\n",
       "      <th>quantity</th>\n",
       "      <th>seller_code</th>\n",
       "      <th>total_price</th>\n",
       "      <th>unit_price</th>\n",
       "    </tr>\n",
       "    <tr>\n",
       "      <th>customer_code</th>\n",
       "      <th></th>\n",
       "      <th></th>\n",
       "      <th></th>\n",
       "      <th></th>\n",
       "      <th></th>\n",
       "      <th></th>\n",
       "      <th></th>\n",
       "      <th></th>\n",
       "    </tr>\n",
       "  </thead>\n",
       "  <tbody>\n",
       "    <tr>\n",
       "      <th>0</th>\n",
       "      <td>0.0</td>\n",
       "      <td>2876</td>\n",
       "      <td>471.076369</td>\n",
       "      <td>967</td>\n",
       "      <td>9.307263</td>\n",
       "      <td>153</td>\n",
       "      <td>4389.258436</td>\n",
       "      <td>67.850670</td>\n",
       "    </tr>\n",
       "    <tr>\n",
       "      <th>1</th>\n",
       "      <td>0.0</td>\n",
       "      <td>2673</td>\n",
       "      <td>192.872654</td>\n",
       "      <td>199</td>\n",
       "      <td>6.830149</td>\n",
       "      <td>154</td>\n",
       "      <td>2300.680764</td>\n",
       "      <td>54.524862</td>\n",
       "    </tr>\n",
       "    <tr>\n",
       "      <th>2</th>\n",
       "      <td>0.0</td>\n",
       "      <td>2862</td>\n",
       "      <td>317.706743</td>\n",
       "      <td>55</td>\n",
       "      <td>10.436482</td>\n",
       "      <td>208</td>\n",
       "      <td>2741.164300</td>\n",
       "      <td>48.270912</td>\n",
       "    </tr>\n",
       "    <tr>\n",
       "      <th>3</th>\n",
       "      <td>0.0</td>\n",
       "      <td>1781</td>\n",
       "      <td>604.128283</td>\n",
       "      <td>206</td>\n",
       "      <td>15.943307</td>\n",
       "      <td>134</td>\n",
       "      <td>8035.883764</td>\n",
       "      <td>78.777307</td>\n",
       "    </tr>\n",
       "    <tr>\n",
       "      <th>4</th>\n",
       "      <td>0.0</td>\n",
       "      <td>2630</td>\n",
       "      <td>345.650797</td>\n",
       "      <td>190</td>\n",
       "      <td>14.561462</td>\n",
       "      <td>3</td>\n",
       "      <td>3577.577608</td>\n",
       "      <td>39.980399</td>\n",
       "    </tr>\n",
       "  </tbody>\n",
       "</table>\n",
       "</div>"
      ],
      "text/plain": [
       "               is_churn  item_code  item_total_price  order_id   quantity  \\\n",
       "customer_code                                                               \n",
       "0                   0.0       2876        471.076369       967   9.307263   \n",
       "1                   0.0       2673        192.872654       199   6.830149   \n",
       "2                   0.0       2862        317.706743        55  10.436482   \n",
       "3                   0.0       1781        604.128283       206  15.943307   \n",
       "4                   0.0       2630        345.650797       190  14.561462   \n",
       "\n",
       "               seller_code  total_price  unit_price  \n",
       "customer_code                                        \n",
       "0                      153  4389.258436   67.850670  \n",
       "1                      154  2300.680764   54.524862  \n",
       "2                      208  2741.164300   48.270912  \n",
       "3                      134  8035.883764   78.777307  \n",
       "4                        3  3577.577608   39.980399  "
      ]
     },
     "execution_count": 4,
     "metadata": {},
     "output_type": "execute_result"
    }
   ],
   "source": [
    "columns = ['customer_code',\n",
    "           'is_churn',\n",
    "           'item_code',\n",
    "           'item_total_price',\n",
    "           'order_id',\n",
    "           'quantity',\n",
    "           'seller_code',\n",
    "           'total_price',\n",
    "           'unit_price',\n",
    "          ]\n",
    "\n",
    "dic = {'is_churn': 'first',\n",
    "       'item_code': 'last',\n",
    "       'item_total_price': 'mean',\n",
    "       'order_id': 'first',\n",
    "       'quantity': 'mean',\n",
    "       'seller_code': 'first',\n",
    "       'total_price': 'mean',\n",
    "       'unit_price': 'mean',\n",
    "      }\n",
    "\n",
    "df = data[columns]\\\n",
    "    .sort_values(['order_id', 'item_code'])\\\n",
    "    .groupby('customer_code')\\\n",
    "    .agg(dic)\n",
    "\n",
    "df.head()"
   ]
  },
  {
   "cell_type": "code",
   "execution_count": 5,
   "metadata": {},
   "outputs": [
    {
     "data": {
      "image/png": "[encoded data removed]",
      "text/plain": [
       "<Figure size 720x504 with 1 Axes>"
      ]
     },
     "metadata": {
      "needs_background": "light"
     },
     "output_type": "display_data"
    }
   ],
   "source": [
    "df.boxplot(column='order_id', by='is_churn', showmeans=True, figsize=(10, 7))\n",
    "plt.suptitle('')\n",
    "plt.title('')\n",
    "plt.ylabel('Order ID');"
   ]
  },
  {
   "cell_type": "markdown",
   "metadata": {},
   "source": [
    "## Null hypothesis"
   ]
  },
  {
   "cell_type": "code",
   "execution_count": 6,
   "metadata": {},
   "outputs": [
    {
     "data": {
      "text/plain": [
       "0.0    737\n",
       "1.0     81\n",
       "Name: is_churn, dtype: int64"
      ]
     },
     "execution_count": 6,
     "metadata": {},
     "output_type": "execute_result"
    }
   ],
   "source": [
    "df.is_churn.value_counts()"
   ]
  },
  {
   "cell_type": "markdown",
   "metadata": {},
   "source": [
    "The null hypothesis states:\n",
    "- *there are no churn customers*.\n",
    "\n",
    "The accuracy of the null hypothesis is given by:\n",
    "- 737 / (737 + 81) = 0.9\n",
    "\n",
    "The accuracy of the null hypothesis is intrinsically high due the imbalance of the target class in the dataset. "
   ]
  },
  {
   "cell_type": "markdown",
   "metadata": {},
   "source": [
    "# Classification Models\n",
    "\n",
    "- Define target class: **y** \n",
    "- Define matrix of features: **X**"
   ]
  },
  {
   "cell_type": "code",
   "execution_count": 7,
   "metadata": {},
   "outputs": [],
   "source": [
    "y = df.is_churn\n",
    "\n",
    "X = df.drop(\"is_churn\", axis=1)"
   ]
  },
  {
   "cell_type": "markdown",
   "metadata": {},
   "source": [
    "## Logistic Regression"
   ]
  },
  {
   "cell_type": "code",
   "execution_count": 8,
   "metadata": {},
   "outputs": [
    {
     "name": "stdout",
     "output_type": "stream",
     "text": [
      "Mean accuracy Logistic Regression without feature scaling: 0.91\n"
     ]
    }
   ],
   "source": [
    "clf = LogisticRegression(solver='liblinear')\n",
    "\n",
    "scores = cross_val_score(clf, X, y, cv=3)\n",
    "\n",
    "acc0 = round(np.mean(scores), 3)\n",
    "\n",
    "print(\"Mean accuracy Logistic Regression without feature scaling:\", acc0)"
   ]
  },
  {
   "cell_type": "code",
   "execution_count": 9,
   "metadata": {},
   "outputs": [
    {
     "name": "stdout",
     "output_type": "stream",
     "text": [
      "Mean accuracy Logistic Regression with feature scaling: 0.933\n"
     ]
    }
   ],
   "source": [
    "clf = make_pipeline(\n",
    "    StandardScaler(),\n",
    "    LogisticRegression(solver='liblinear')\n",
    ")\n",
    "\n",
    "scores = cross_val_score(clf, X, y, cv=3)\n",
    "\n",
    "acc1 = round(np.mean(scores), 3)\n",
    "\n",
    "print(\"Mean accuracy Logistic Regression with feature scaling:\", acc1)"
   ]
  },
  {
   "cell_type": "markdown",
   "metadata": {},
   "source": [
    "## Random Forest"
   ]
  },
  {
   "cell_type": "code",
   "execution_count": 10,
   "metadata": {},
   "outputs": [
    {
     "name": "stdout",
     "output_type": "stream",
     "text": [
      "Mean accuracy Ramdom Forest without feature scaling: 0.894\n"
     ]
    }
   ],
   "source": [
    "clf = RandomForestClassifier(\n",
    "    n_estimators=10,\n",
    "    random_state=42,\n",
    "    class_weight='balanced_subsample')\n",
    "\n",
    "scores = cross_val_score(clf, X, y, cv=3)\n",
    "\n",
    "acc2 = round(np.mean(scores), 3)\n",
    "\n",
    "print(\"Mean accuracy Ramdom Forest without feature scaling:\", acc2)"
   ]
  },
  {
   "cell_type": "code",
   "execution_count": 11,
   "metadata": {},
   "outputs": [
    {
     "name": "stdout",
     "output_type": "stream",
     "text": [
      "Mean accuracy Ramdom Forest with feature scaling: 0.894\n"
     ]
    }
   ],
   "source": [
    "clf = make_pipeline(\n",
    "    StandardScaler(),\n",
    "    RandomForestClassifier(\n",
    "        n_estimators=10,\n",
    "        random_state=42,\n",
    "        class_weight='balanced_subsample')\n",
    ")\n",
    "\n",
    "scores = cross_val_score(clf, X, y, cv=3)\n",
    "\n",
    "acc3 = round(np.mean(scores), 3)\n",
    "\n",
    "print(\"Mean accuracy Ramdom Forest with feature scaling:\", acc3)"
   ]
  },
  {
   "cell_type": "markdown",
   "metadata": {},
   "source": [
    "# Summary"
   ]
  },
  {
   "cell_type": "code",
   "execution_count": 12,
   "metadata": {},
   "outputs": [
    {
     "data": {
      "text/html": [
       "<div>\n",
       "<style scoped>\n",
       "    .dataframe tbody tr th:only-of-type {\n",
       "        vertical-align: middle;\n",
       "    }\n",
       "\n",
       "    .dataframe tbody tr th {\n",
       "        vertical-align: top;\n",
       "    }\n",
       "\n",
       "    .dataframe thead th {\n",
       "        text-align: right;\n",
       "    }\n",
       "</style>\n",
       "<table border=\"1\" class=\"dataframe\">\n",
       "  <thead>\n",
       "    <tr style=\"text-align: right;\">\n",
       "      <th></th>\n",
       "      <th>with_feature_scaling</th>\n",
       "      <th>wout_feature_scaling</th>\n",
       "    </tr>\n",
       "    <tr>\n",
       "      <th>model</th>\n",
       "      <th></th>\n",
       "      <th></th>\n",
       "    </tr>\n",
       "  </thead>\n",
       "  <tbody>\n",
       "    <tr>\n",
       "      <th>LogisticRegression</th>\n",
       "      <td>0.933</td>\n",
       "      <td>0.910</td>\n",
       "    </tr>\n",
       "    <tr>\n",
       "      <th>RandomForest</th>\n",
       "      <td>0.894</td>\n",
       "      <td>0.894</td>\n",
       "    </tr>\n",
       "  </tbody>\n",
       "</table>\n",
       "</div>"
      ],
      "text/plain": [
       "                    with_feature_scaling  wout_feature_scaling\n",
       "model                                                         \n",
       "LogisticRegression                 0.933                 0.910\n",
       "RandomForest                       0.894                 0.894"
      ]
     },
     "execution_count": 12,
     "metadata": {},
     "output_type": "execute_result"
    }
   ],
   "source": [
    "results = pd.DataFrame({\n",
    "    \"model\": [\"LogisticRegression\", \"RandomForest\"],\n",
    "    \"with_feature_scaling\": [acc1, acc3],\n",
    "    \"wout_feature_scaling\": [acc0, acc2],\n",
    "}).set_index(\"model\")\n",
    "\n",
    "results"
   ]
  },
  {
   "cell_type": "code",
   "execution_count": 13,
   "metadata": {},
   "outputs": [
    {
     "data": {
      "image/png": "[encoded data removed]",
      "text/plain": [
       "<Figure size 720x504 with 1 Axes>"
      ]
     },
     "metadata": {
      "needs_background": "light"
     },
     "output_type": "display_data"
    }
   ],
   "source": [
    "ax = results.plot.barh(figsize=(10, 7))\n",
    "ax.set_title(\"Model comparison with/wout feature scaling\")\n",
    "ax.set_xlabel(\"accuracy\")\n",
    "ax.set_xlim(0.75, 1)\n",
    "\n",
    "plt.plot([0.9, 0.9], [-1, 2], 'g--'); # null hypothesis"
   ]
  },
  {
   "cell_type": "markdown",
   "metadata": {},
   "source": [
    "## Conclusion\n",
    "\n",
    "The logisitic regression model with feature scaling presents the best performance in terms of classification accuracy. In contrast, the random forest model is worse than the null hypothesis."
   ]
  }
 ],
 "metadata": {
  "kernelspec": {
   "display_name": "Python 3",
   "language": "python",
   "name": "python3"
  },
  "language_info": {
   "codemirror_mode": {
    "name": "ipython",
    "version": 3
   },
   "file_extension": ".py",
   "mimetype": "text/x-python",
   "name": "python",
   "nbconvert_exporter": "python",
   "pygments_lexer": "ipython3",
   "version": "3.7.0"
  }
 },
 "nbformat": 4,
 "nbformat_minor": 2
}
